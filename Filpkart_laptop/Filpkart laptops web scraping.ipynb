{
 "cells": [
  {
   "cell_type": "code",
   "execution_count": 3,
   "id": "1246e004-4ed4-4b83-95ec-9335a14c6217",
   "metadata": {},
   "outputs": [],
   "source": [
    "#importing required libraries\n",
    "import requests \n",
    "from bs4 import BeautifulSoup \n",
    "import pandas as pd  "
   ]
  },
  {
   "cell_type": "code",
   "execution_count": 4,
   "id": "3325de0d-03f6-4dfa-8189-42ffc35e870d",
   "metadata": {},
   "outputs": [],
   "source": [
    "# Initialize an empty DataFrame to store all the data\n",
    "final=pd.DataFrame()\n",
    "\n",
    "# Loop through page numbers (in this case, from 1 to 87)\n",
    "for j in range(1,88):\n",
    "    \n",
    "    # Define the URL for each page of the search results (using the 'j' variable could make it dynamic for pagination)\n",
    "    url=\"https://www.flipkart.com/search?q=laptop&sid=6bo%2Cb5g&as=on&as-show=on&otracker=AS_QueryStore_OrganicAutoSuggest_1_3_na_na_na&otracker1=AS_QueryStore_OrganicAutoSuggest_1_3_na_na_na&as-pos=1&as-type=RECENT&suggestionId=laptop%7CLaptops&requestId=ce11f755-3d1c-4c8d-b37c-5f342f553473&as-searchtext=laptop\"\n",
    "    \n",
    "    # Set headers to mimic a browser request\n",
    "    headers={\"user-agent\":\"Mozilla/5.0 (Windows NT 10.0; Win64; x64) AppleWebKit/537.36 (KHTML, like Gecko) Chrome/132.0.0.0 Safari/537.36 Edg/132.0.0.0\"}\n",
    "    \n",
    "    # Send a GET request to fetch the webpage\n",
    "    webpage=requests.get(url,headers=headers).text\n",
    "   \n",
    "    # Parse the HTML content of the page using BeautifulSoup\n",
    "    soup=BeautifulSoup(webpage,\"html.parser\")\n",
    "\n",
    "    # Find all laptop items in the page using the 'yKfJKb row' class (container for laptop data)\n",
    "    data=soup.find_all('div',class_=\"yKfJKb row\")\n",
    "    \n",
    "    # Initialize empty lists to store the data for each attribute of the laptops\n",
    "    laptop=[]\n",
    "    processor=[]\n",
    "    ram=[]\n",
    "    operating_system=[]\n",
    "    storage=[]\n",
    "    display=[]\n",
    "    price=[]\n",
    "    \n",
    "    # Loop through each laptop in the page data\n",
    "    for i in data:\n",
    "        \n",
    "        # Extract laptop brand name\n",
    "        l=i.find('div',class_=\"KzDlHZ\")\n",
    "        laptop.append(l.text.strip()if l else \"nan\")\n",
    "        \n",
    "        # Extract processor information\n",
    "        p=i.find('li',class_=\"J+igdf\")\n",
    "        processor.append(p.text.strip()if p else \"nan\")\n",
    "        \n",
    "        # Extract RAM information (second <li> element)\n",
    "        r=i.find_all('li',class_=\"J+igdf\")[1]\n",
    "        ram.append(r.text.strip()if r else \"nan\")\n",
    "        \n",
    "        # Extract operating system information (third <li> element)\n",
    "        op=i.find_all('li',class_=\"J+igdf\")[2]\n",
    "        operating_system.append(op.text.strip()if op else \"nan\")\n",
    "        \n",
    "        # Extract storage information (fourth <li> element)\n",
    "        st=i.find_all('li',class_=\"J+igdf\")[3]\n",
    "        storage.append(st.text.strip()if st else \"nan\")\n",
    "        \n",
    "        # Extract display details (fifth <li> element)\n",
    "        ds=i.find_all('li',class_=\"J+igdf\")[4]\n",
    "        display.append(ds.text.strip()if ds else \"nan\")\n",
    "        \n",
    "        # Extract price information\n",
    "        pr=i.find('div',class_=\"Nx9bqj _4b5DiR\")\n",
    "        price.append(pr.text.strip()if pr else \"nan\")\n",
    "        \n",
    "        # Create a dictionary with the scraped data\n",
    "        dict={\"brand\":laptop,\"Processor\":processor,\"RAM\":ram,\"OS\":operating_system,\"Storage\":storage,\"Display Details\":display,\"Price in ₹\":price}\n",
    "        \n",
    "        # Convert the dictionary to a DataFrame\n",
    "        df=pd.DataFrame(dict)\n",
    "        \n",
    "        # Concatenate the current DataFrame with the final DataFrame\n",
    "        final=pd.concat([final,df],ignore_index=True)\n",
    "        \n",
    "# Now, the 'final' DataFrame contains all the scraped data"
   ]
  },
  {
   "cell_type": "code",
   "execution_count": 20,
   "id": "0c03f1a7-0b2e-4e4a-b851-7c170ce2f198",
   "metadata": {},
   "outputs": [
    {
     "name": "stdout",
     "output_type": "stream",
     "text": [
      "Total no. of records : 26100\n"
     ]
    }
   ],
   "source": [
    "#total no.of records\n",
    "no_of_records=final.shape[0]\n",
    "print(\"Total no. of records :\", no_of_records)"
   ]
  },
  {
   "cell_type": "code",
   "execution_count": 22,
   "id": "7d5a2e6a-cbf6-4d36-a446-dd327312d306",
   "metadata": {},
   "outputs": [
    {
     "name": "stdout",
     "output_type": "stream",
     "text": [
      "Total no. of coulmn : 26100\n"
     ]
    }
   ],
   "source": [
    "#total no.of column\n",
    "no_of_column=final.shape[0]\n",
    "print(\"Total no. of coulmn :\", no_of_column)"
   ]
  },
  {
   "cell_type": "code",
   "execution_count": 13,
   "id": "c1ece7ba-dce3-4486-b92b-127698982f67",
   "metadata": {},
   "outputs": [
    {
     "name": "stdout",
     "output_type": "stream",
     "text": [
      "<class 'pandas.core.frame.DataFrame'>\n",
      "RangeIndex: 26100 entries, 0 to 26099\n",
      "Data columns (total 7 columns):\n",
      " #   Column           Non-Null Count  Dtype \n",
      "---  ------           --------------  ----- \n",
      " 0   brand            26100 non-null  object\n",
      " 1   Processor        26100 non-null  object\n",
      " 2   RAM              26100 non-null  object\n",
      " 3   OS               26100 non-null  object\n",
      " 4   Storage          26100 non-null  object\n",
      " 5   Display Details  26100 non-null  object\n",
      " 6   Price in ₹       26100 non-null  object\n",
      "dtypes: object(7)\n",
      "memory usage: 1.4+ MB\n"
     ]
    }
   ],
   "source": [
    "#information of the dataset\n",
    "final.info()"
   ]
  },
  {
   "cell_type": "code",
   "execution_count": 14,
   "id": "b59c2a38-ccf3-4c3f-a75a-fdb93b23dfec",
   "metadata": {},
   "outputs": [
    {
     "data": {
      "text/html": [
       "<div>\n",
       "<style scoped>\n",
       "    .dataframe tbody tr th:only-of-type {\n",
       "        vertical-align: middle;\n",
       "    }\n",
       "\n",
       "    .dataframe tbody tr th {\n",
       "        vertical-align: top;\n",
       "    }\n",
       "\n",
       "    .dataframe thead th {\n",
       "        text-align: right;\n",
       "    }\n",
       "</style>\n",
       "<table border=\"1\" class=\"dataframe\">\n",
       "  <thead>\n",
       "    <tr style=\"text-align: right;\">\n",
       "      <th></th>\n",
       "      <th>brand</th>\n",
       "      <th>Processor</th>\n",
       "      <th>RAM</th>\n",
       "      <th>OS</th>\n",
       "      <th>Storage</th>\n",
       "      <th>Display Details</th>\n",
       "      <th>Price in ₹</th>\n",
       "    </tr>\n",
       "  </thead>\n",
       "  <tbody>\n",
       "    <tr>\n",
       "      <th>0</th>\n",
       "      <td>Acer Swift Go 14 Qualcomm Snapdragon X Plus - ...</td>\n",
       "      <td>Qualcomm Snapdragon X Plus Processor</td>\n",
       "      <td>16 GB LPDDR5X RAM</td>\n",
       "      <td>Windows 11 Operating System</td>\n",
       "      <td>512 GB SSD</td>\n",
       "      <td>36.83 cm (14.5 Inch) Display</td>\n",
       "      <td>₹82,990</td>\n",
       "    </tr>\n",
       "    <tr>\n",
       "      <th>1</th>\n",
       "      <td>Acer Swift Go 14 Qualcomm Snapdragon X Plus - ...</td>\n",
       "      <td>Qualcomm Snapdragon X Plus Processor</td>\n",
       "      <td>16 GB LPDDR5X RAM</td>\n",
       "      <td>Windows 11 Operating System</td>\n",
       "      <td>512 GB SSD</td>\n",
       "      <td>36.83 cm (14.5 Inch) Display</td>\n",
       "      <td>₹82,990</td>\n",
       "    </tr>\n",
       "    <tr>\n",
       "      <th>2</th>\n",
       "      <td>ASUS Vivobook S 15 OLED Powered Copilot + , AI...</td>\n",
       "      <td>Qualcomm Snapdragon X Elite Processor</td>\n",
       "      <td>16 GB LPDDR5X RAM</td>\n",
       "      <td>Windows 11 Operating System</td>\n",
       "      <td>1 TB SSD</td>\n",
       "      <td>39.62 cm (15.6 Inch) Display</td>\n",
       "      <td>₹1,09,990</td>\n",
       "    </tr>\n",
       "    <tr>\n",
       "      <th>3</th>\n",
       "      <td>Acer Swift Go 14 Qualcomm Snapdragon X Plus - ...</td>\n",
       "      <td>Qualcomm Snapdragon X Plus Processor</td>\n",
       "      <td>16 GB LPDDR5X RAM</td>\n",
       "      <td>Windows 11 Operating System</td>\n",
       "      <td>512 GB SSD</td>\n",
       "      <td>36.83 cm (14.5 Inch) Display</td>\n",
       "      <td>₹82,990</td>\n",
       "    </tr>\n",
       "    <tr>\n",
       "      <th>4</th>\n",
       "      <td>ASUS Vivobook S 15 OLED Powered Copilot + , AI...</td>\n",
       "      <td>Qualcomm Snapdragon X Elite Processor</td>\n",
       "      <td>16 GB LPDDR5X RAM</td>\n",
       "      <td>Windows 11 Operating System</td>\n",
       "      <td>1 TB SSD</td>\n",
       "      <td>39.62 cm (15.6 Inch) Display</td>\n",
       "      <td>₹1,09,990</td>\n",
       "    </tr>\n",
       "  </tbody>\n",
       "</table>\n",
       "</div>"
      ],
      "text/plain": [
       "                                               brand  \\\n",
       "0  Acer Swift Go 14 Qualcomm Snapdragon X Plus - ...   \n",
       "1  Acer Swift Go 14 Qualcomm Snapdragon X Plus - ...   \n",
       "2  ASUS Vivobook S 15 OLED Powered Copilot + , AI...   \n",
       "3  Acer Swift Go 14 Qualcomm Snapdragon X Plus - ...   \n",
       "4  ASUS Vivobook S 15 OLED Powered Copilot + , AI...   \n",
       "\n",
       "                               Processor                RAM  \\\n",
       "0   Qualcomm Snapdragon X Plus Processor  16 GB LPDDR5X RAM   \n",
       "1   Qualcomm Snapdragon X Plus Processor  16 GB LPDDR5X RAM   \n",
       "2  Qualcomm Snapdragon X Elite Processor  16 GB LPDDR5X RAM   \n",
       "3   Qualcomm Snapdragon X Plus Processor  16 GB LPDDR5X RAM   \n",
       "4  Qualcomm Snapdragon X Elite Processor  16 GB LPDDR5X RAM   \n",
       "\n",
       "                            OS     Storage               Display Details  \\\n",
       "0  Windows 11 Operating System  512 GB SSD  36.83 cm (14.5 Inch) Display   \n",
       "1  Windows 11 Operating System  512 GB SSD  36.83 cm (14.5 Inch) Display   \n",
       "2  Windows 11 Operating System    1 TB SSD  39.62 cm (15.6 Inch) Display   \n",
       "3  Windows 11 Operating System  512 GB SSD  36.83 cm (14.5 Inch) Display   \n",
       "4  Windows 11 Operating System    1 TB SSD  39.62 cm (15.6 Inch) Display   \n",
       "\n",
       "  Price in ₹  \n",
       "0    ₹82,990  \n",
       "1    ₹82,990  \n",
       "2  ₹1,09,990  \n",
       "3    ₹82,990  \n",
       "4  ₹1,09,990  "
      ]
     },
     "execution_count": 14,
     "metadata": {},
     "output_type": "execute_result"
    }
   ],
   "source": [
    "# top five rows of dataset\n",
    "final.head()"
   ]
  },
  {
   "cell_type": "code",
   "execution_count": 23,
   "id": "1bb129c6-6ebf-4507-8f80-6f968ed0af13",
   "metadata": {},
   "outputs": [],
   "source": [
    "#saving the file to current directory\n",
    "final.to_csv(\"Filpkart laptops dataset.csv\",index=False)"
   ]
  },
  {
   "cell_type": "code",
   "execution_count": null,
   "id": "42a0ffef-765b-4c48-8709-61c26852fb16",
   "metadata": {},
   "outputs": [],
   "source": []
  }
 ],
 "metadata": {
  "kernelspec": {
   "display_name": "Python 3 (ipykernel)",
   "language": "python",
   "name": "python3"
  },
  "language_info": {
   "codemirror_mode": {
    "name": "ipython",
    "version": 3
   },
   "file_extension": ".py",
   "mimetype": "text/x-python",
   "name": "python",
   "nbconvert_exporter": "python",
   "pygments_lexer": "ipython3",
   "version": "3.11.9"
  }
 },
 "nbformat": 4,
 "nbformat_minor": 5
}
